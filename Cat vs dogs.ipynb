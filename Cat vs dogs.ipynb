{
 "cells": [
  {
   "cell_type": "code",
   "execution_count": 1,
   "id": "22bdd55c",
   "metadata": {},
   "outputs": [
    {
     "name": "stdout",
     "output_type": "stream",
     "text": [
      "PetImages/Cat\n"
     ]
    },
    {
     "name": "stderr",
     "output_type": "stream",
     "text": [
      "100%|███████████████████████████████████████████████████████████████████████████| 12501/12501 [01:28<00:00, 142.05it/s]\n"
     ]
    },
    {
     "name": "stdout",
     "output_type": "stream",
     "text": [
      "PetImages/Dog\n"
     ]
    },
    {
     "name": "stderr",
     "output_type": "stream",
     "text": [
      "100%|███████████████████████████████████████████████████████████████████████████| 12501/12501 [01:35<00:00, 130.26it/s]\n",
      "C:\\Users\\LENOVO\\anaconda3\\lib\\site-packages\\numpy\\lib\\npyio.py:521: VisibleDeprecationWarning: Creating an ndarray from ragged nested sequences (which is a list-or-tuple of lists-or-tuples-or ndarrays with different lengths or shapes) is deprecated. If you meant to do this, you must specify 'dtype=object' when creating the ndarray.\n",
      "  arr = np.asanyarray(arr)\n"
     ]
    },
    {
     "name": "stdout",
     "output_type": "stream",
     "text": [
      "Cats: 12476\n",
      "Dogs: 12470\n"
     ]
    }
   ],
   "source": [
    "import os\n",
    "import cv2\n",
    "import numpy as np\n",
    "from tqdm import tqdm\n",
    "\n",
    "\n",
    "REBUILD_DATA = True\n",
    "class DogsVSCats():\n",
    "    IMG_SIZE=50\n",
    "    CATS = \"PetImages/Cat\"\n",
    "    DOGS = \"PetImages/Dog\"\n",
    "    LABELS={CATS: 0 , DOGS: 1}\n",
    "    training_data=[]\n",
    "    catcount=0\n",
    "    dogcount=0\n",
    "    def make_training_data(self):\n",
    "        for label in self.LABELS:#iterating over the directories\n",
    "            print(label)\n",
    "            for f in tqdm(os.listdir(label)):#iterating over images in those dir f=file name\n",
    "                try:\n",
    "                    path=os.path.join(label,f)\n",
    "                    img=cv2.imread(path,cv2.IMREAD_GRAYSCALE)\n",
    "                    img=cv2.resize(img,(self.IMG_SIZE,self.IMG_SIZE))\n",
    "                    self.training_data.append([np.array(img),np.eye(2)[self.LABELS[label]]])\n",
    "                \n",
    "                    if label==self.CATS:\n",
    "                        self.catcount+=1\n",
    "                    if label==self.DOGS:\n",
    "                        self.dogcount+=1\n",
    "                except Exception as e :\n",
    "                    pass\n",
    "        np.random.shuffle(self.training_data)\n",
    "        np.save(\"training_data.npy\",self.training_data)\n",
    "        print(\"Cats:\",self.catcount)\n",
    "        print(\"Dogs:\",self.dogcount)\n",
    "if REBUILD_DATA:\n",
    "    dogsvscats=DogsVSCats()\n",
    "    dogsvscats.make_training_data()\n",
    "training_data=np.load(\"training_data.npy\",allow_pickle=True)\n",
    "                \n",
    "    "
   ]
  },
  {
   "cell_type": "code",
   "execution_count": 32,
   "id": "c5105591",
   "metadata": {},
   "outputs": [],
   "source": [
    "import torch\n",
    "import torch.nn as nn \n",
    "import torch.nn.functional as F\n",
    "class Net(nn.Module):\n",
    "    def __init__(self):\n",
    "        super().__init__()\n",
    "        self.conv1=nn.Conv2d(1,32,5)\n",
    "        self.conv2=nn.Conv2d(32,64,5)\n",
    "        self.conv3=nn.Conv2d(64,128,5)\n",
    "        self.fc1=nn.Linear(128*2*2,512)\n",
    "        self.fc2=nn.Linear(512,2)  \n",
    "    def convs(self,x):\n",
    "        x=F.max_pool2d(F.relu(self.conv1(x)),(2,2))\n",
    "        x=F.max_pool2d(F.relu(self.conv2(x)),(2,2))\n",
    "        x=F.max_pool2d(F.relu(self.conv3(x)),(2,2))\n",
    "        \n",
    "        return x\n",
    "    def forward(self,x):\n",
    "        x=self.convs(x)\n",
    "        x=x.view(-1,128*2*2)\n",
    "        x=F.relu(self.fc1(x))\n",
    "        x=self.fc2(x)\n",
    "        return F.softmax(x,dim=1)\n",
    "net = Net()\n",
    "        "
   ]
  },
  {
   "cell_type": "code",
   "execution_count": 33,
   "id": "b66c6990",
   "metadata": {},
   "outputs": [
    {
     "name": "stdout",
     "output_type": "stream",
     "text": [
      "2494\n"
     ]
    }
   ],
   "source": [
    "import torch.optim as optim\n",
    "#                    hon ktabna hek laan for ex bel transfer learning iza\n",
    "#                    ekhdin pretrained model w bdna nestaamlo to predict\n",
    "#                    shi tene fina ma naadil b awal kam layer laano ha \n",
    "#                    ykouno ktir mneh bas lezim naadil ekhir kam layer\n",
    "#                    ta yaatuna  l output l bdna yeha \n",
    "#                    ***************\n",
    "optimizer=optim.Adam(net.parameters(),lr=0.001)\n",
    "loss_function=nn.MSELoss()\n",
    "X=torch.Tensor([i[0] for i in training_data]).view(-1,50,50)\n",
    "X=X/255.0\n",
    "y=torch.Tensor([i[1] for i in training_data])\n",
    "VAL_PCT=0.1\n",
    "val_size=int(len(X)*VAL_PCT)\n",
    "print(val_size)"
   ]
  },
  {
   "cell_type": "code",
   "execution_count": 50,
   "id": "41d13a06",
   "metadata": {},
   "outputs": [
    {
     "name": "stdout",
     "output_type": "stream",
     "text": [
      "22452\n",
      "2494\n"
     ]
    }
   ],
   "source": [
    "train_X=X[:-val_size]\n",
    "train_y=y[:-val_size]\n",
    "test_X=X[-val_size:]\n",
    "test_y=y[-val_size:]\n",
    "print(len(train_X))\n",
    "print(len(test_X))"
   ]
  },
  {
   "cell_type": "code",
   "execution_count": 66,
   "id": "a7ee5bda",
   "metadata": {},
   "outputs": [
    {
     "name": "stderr",
     "output_type": "stream",
     "text": [
      "100%|████████████████████████████████████████████████████████████████████████████████| 225/225 [00:51<00:00,  4.35it/s]\n",
      "100%|████████████████████████████████████████████████████████████████████████████████| 225/225 [00:57<00:00,  3.92it/s]\n",
      "100%|████████████████████████████████████████████████████████████████████████████████| 225/225 [00:57<00:00,  3.89it/s]"
     ]
    },
    {
     "name": "stdout",
     "output_type": "stream",
     "text": [
      "tensor(0.1545, grad_fn=<MseLossBackward0>)\n"
     ]
    },
    {
     "name": "stderr",
     "output_type": "stream",
     "text": [
      "\n"
     ]
    }
   ],
   "source": [
    "BATCH_SIZE=100\n",
    "EPOCHS=3\n",
    "for epoch in range(EPOCHS):\n",
    "    for i in tqdm(range(0,len(train_X),BATCH_SIZE)):\n",
    "        batch_X=train_X[i:i+BATCH_SIZE].view(-1,1,50,50)\n",
    "        batch_y=train_y[i:i+BATCH_SIZE]\n",
    "        net.zero_grad()#when we are training our model we set some unnecessary info = 0 to finsih faster\n",
    "        outputs=net(batch_X)\n",
    "        loss =loss_function(outputs,batch_y)#laano to calculate the loss , our vector isnt a one hot vector(ex:[0,0,1])\n",
    "        loss.backward()#In fitting a neural network, backpropagation computes the gradient of the loss function with\n",
    "        #respect to the weights of the network for a single input–output example, and does so efficiently,\n",
    "        # unlike a naive direct computation of the gradient with respect to each weight individually.\n",
    "        optimizer.step()#this adjust the weights\n",
    "print(loss)"
   ]
  },
  {
   "cell_type": "code",
   "execution_count": 67,
   "id": "61dd3371",
   "metadata": {},
   "outputs": [
    {
     "name": "stdout",
     "output_type": "stream",
     "text": [
      "tensor([0., 1.])\n",
      "tensor([0.4084, 0.5916], grad_fn=<SelectBackward0>)\n",
      "tensor(1)\n"
     ]
    }
   ],
   "source": [
    "import matplotlib.pyplot as plt\n",
    "print(test_y[1])\n",
    "print(net(test_X[1].view(-1,1,50,50))[0])\n",
    "print(torch.argmax(net(test_X[1].view(-1,1,50,50))[0]))"
   ]
  },
  {
   "cell_type": "code",
   "execution_count": 68,
   "id": "99dda700",
   "metadata": {},
   "outputs": [
    {
     "name": "stderr",
     "output_type": "stream",
     "text": [
      "100%|█████████████████████████████████████████████████████████████████████████████| 2494/2494 [00:03<00:00, 828.52it/s]"
     ]
    },
    {
     "name": "stdout",
     "output_type": "stream",
     "text": [
      "Accuracy 0.705\n"
     ]
    },
    {
     "name": "stderr",
     "output_type": "stream",
     "text": [
      "\n"
     ]
    }
   ],
   "source": [
    "correct = 0\n",
    "total = 0\n",
    "with torch.no_grad():\n",
    "    for i in tqdm(range(len(test_X))):\n",
    "        real_class=torch.argmax(test_y[i])\n",
    "        net_out=net(test_X[i].view(-1,1,50,50))[0]\n",
    "        predicted_class=torch.argmax(net_out)\n",
    "        if predicted_class == real_class:\n",
    "            correct+=1\n",
    "        total+=1\n",
    "print(\"Accuracy\",round(correct/total,3))"
   ]
  },
  {
   "cell_type": "code",
   "execution_count": null,
   "id": "428b4f8f",
   "metadata": {},
   "outputs": [],
   "source": []
  }
 ],
 "metadata": {
  "kernelspec": {
   "display_name": "Python 3 (ipykernel)",
   "language": "python",
   "name": "python3"
  },
  "language_info": {
   "codemirror_mode": {
    "name": "ipython",
    "version": 3
   },
   "file_extension": ".py",
   "mimetype": "text/x-python",
   "name": "python",
   "nbconvert_exporter": "python",
   "pygments_lexer": "ipython3",
   "version": "3.9.13"
  }
 },
 "nbformat": 4,
 "nbformat_minor": 5
}
